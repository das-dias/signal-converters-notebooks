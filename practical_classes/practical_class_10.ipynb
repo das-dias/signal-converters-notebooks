{
 "cells": [
  {
   "attachments": {},
   "cell_type": "markdown",
   "metadata": {},
   "source": [
    "<h1 align=\"center\"> Capacitive ADC High-Level Modelling </h1>"
   ]
  },
  {
   "attachments": {},
   "cell_type": "markdown",
   "metadata": {},
   "source": [
    "<h2 align=\"left\"> Successive Approximation Register (SAR) ADC - Bottom Plate Sampling </h2>\n",
    "\n",
    "<p align=\"justify\">\n",
    "    The SAR ADC is a type of ADC that uses a binary search algorithm to find the input voltage. The SAR ADC is composed of a DAC, a comparator, and a SAR control logic and register. The binary search divides the search domain in 2 in each conversion step, making the input voltage of the comparator to approximate the input voltage of the ADC in each step, by reprogramming each of the bits of the intrinsic DAC to uncover which is the digital word that best represents vin.\n",
    "</p>\n",
    "\n",
    "INSERIR IMAGEM DE UM SAR ADC CLÁSSICO\n",
    "\n",
    "INSERIR IMAGEM DA OPERAÇÃO DE DIVISÃO DO DOMÍNIO DE BUSCA\n",
    "\n",
    "INSERIR IMAGEM DA CONFIGURAÇÃO DO ADC EM CADA PASSO DE CONVERSÃO"
   ]
  },
  {
   "cell_type": "code",
   "execution_count": null,
   "metadata": {
    "vscode": {
     "languageId": "plaintext"
    }
   },
   "outputs": [],
   "source": []
  },
  {
   "attachments": {},
   "cell_type": "markdown",
   "metadata": {
    "vscode": {
     "languageId": "plaintext"
    }
   },
   "source": [
    "<h2 align=\"left\"> Successive Approximation Register (SAR) ADC - Top Plate Sampling </h2>\n",
    "\n",
    "<p align=\"justify\">\n",
    "    \n",
    "</p>\n",
    "\n",
    "INSERIR IMAGEM DE UM SAR ADC CLÁSSICO com top plate sampling\n",
    "\n",
    "INSERIR IMAGEM DA OPERAÇÃO DE DIVISÃO DO DOMÍNIO DE BUSCA\n",
    "\n",
    "INSERIR IMAGEM DA CONFIGURAÇÃO DO ADC EM CADA PASSO DE CONVERSÃO"
   ]
  },
  {
   "cell_type": "code",
   "execution_count": null,
   "metadata": {
    "vscode": {
     "languageId": "plaintext"
    }
   },
   "outputs": [],
   "source": []
  },
  {
   "attachments": {},
   "cell_type": "markdown",
   "metadata": {},
   "source": [
    "<h2 align=\"left\"> Differential Successive Approximation Register (SAR) ADC - Bottom Plate Sampling </h2>\n",
    "\n",
    "<p align=\"justify\">\n",
    "    \n",
    "</p>\n",
    "\n",
    "INSERIR IMAGEM DE UM SAR ADC DIFERENCIAL COM BOT PLATE SAMPLING\n",
    "\n",
    "INSERIR IMAGEM DA OPERAÇÃO DE DIVISÃO DO DOMÍNIO DE BUSCA E EXPLICAR O PORQUE DE NAO PRECISAR DE USAR O DAC PARA DETERMINAR O PRIMEIRO BIT\n",
    "\n",
    "INSERIR IMAGEM DA CONFIGURAÇÃO DO ADC EM CADA PASSO DE CONVERSÃO, E EXPLICAR O PORQUE DE NECESSITAR DE UM PASSO ADICIONAL PARA PASSAR O VIN DA BOT PLATE PARA A TOP PLATE"
   ]
  },
  {
   "cell_type": "code",
   "execution_count": null,
   "metadata": {
    "vscode": {
     "languageId": "plaintext"
    }
   },
   "outputs": [],
   "source": []
  },
  {
   "attachments": {},
   "cell_type": "markdown",
   "metadata": {},
   "source": [
    "<h2 align=\"left\"> Differential Successive Approximation Register (SAR) ADC - Top Plate Sampling </h2>\n",
    "\n",
    "<p align=\"justify\">\n",
    "    \n",
    "</p>\n",
    "\n",
    "INSERIR IMAGEM DE UM SAR ADC DIFERENCIAL COM TOP PLATE SAMPLING\n",
    "\n",
    "INSERIR IMAGEM DA OPERAÇÃO DE DIVISÃO DO DOMÍNIO DE BUSCA E EXPLICAR O PORQUE DE NAO PRECISAR DE USAR O DAC PARA DETERMINAR O PRIMEIRO BIT\n",
    "\n",
    "INSERIR IMAGEM DA CONFIGURAÇÃO DO ADC EM CADA PASSO DE CONVERSÃO"
   ]
  },
  {
   "cell_type": "code",
   "execution_count": null,
   "metadata": {
    "vscode": {
     "languageId": "plaintext"
    }
   },
   "outputs": [],
   "source": []
  },
  {
   "attachments": {},
   "cell_type": "markdown",
   "metadata": {},
   "source": [
    "<h2 align=\"left\"> Successive Approximation Register (SAR) ADC - Top Plate Sampling & Monotonic SAR</h2>\n",
    "\n",
    "<p align=\"justify\">\n",
    "\n",
    "</p>\n",
    "\n",
    "INSERIR IMAGEM DE UM SAR ADC DIFEERENCIAL COM TOP PLATE SAMPLING E MONOTONICO\n",
    "\n",
    "INSERIR IMAGEM DA OPERAÇÃO DE DIVISÃO DO DOMÍNIO DE BUSCA COM O ALGORITMO MONOTONICO\n",
    "\n",
    "INSERIR IMAGEM DA CONFIGURAÇÃO DO ADC EM CADA PASSO DE CONVERSÃO"
   ]
  },
  {
   "cell_type": "code",
   "execution_count": null,
   "metadata": {
    "vscode": {
     "languageId": "plaintext"
    }
   },
   "outputs": [],
   "source": []
  },
  {
   "attachments": {},
   "cell_type": "markdown",
   "metadata": {},
   "source": [
    "<h2 align=\"left\"> Successive Approximation Register (SAR) ADC - V<sub>CM</sub>-Based with Bottom Plate Sampling   </h2>\n",
    "\n",
    "<p align=\"justify\">\n",
    "    \n",
    "</p>\n"
   ]
  },
  {
   "cell_type": "code",
   "execution_count": null,
   "metadata": {
    "vscode": {
     "languageId": "plaintext"
    }
   },
   "outputs": [],
   "source": []
  },
  {
   "attachments": {},
   "cell_type": "markdown",
   "metadata": {},
   "source": [
    "<h2 align=\"left\"> Differential Successive Approximation Register (SAR) ADC - Loop Unrolled </h2>\n",
    "\n",
    "<p align=\"justify\">\n",
    "    \n",
    "</p>\n",
    "\n",
    "INSERIR IMAGEM DE UM SAR ADC DIFERENCIAL COM UM COMPARADOR POR BIT\n",
    "\n",
    "INSERIR IMAGEM DA OPERAÇÃO DE DIVISÃO DO DOMÍNIO DE BUSCA DO SAR ADC LOP-UNROLLED\n",
    "\n",
    "INSERIR IMAGEM DA CONFIGURAÇÃO DO ADC EM CADA PASSO DE CONVERSÃO"
   ]
  },
  {
   "cell_type": "code",
   "execution_count": null,
   "metadata": {
    "vscode": {
     "languageId": "plaintext"
    }
   },
   "outputs": [],
   "source": []
  },
  {
   "attachments": {},
   "cell_type": "markdown",
   "metadata": {},
   "source": [
    "EXPLICAR COMO O PING-PONG SAR PODE SER DERIVADO DO LOOP-UNROLLED SAR ADC E EXPLICAR O SEU FUNCIONAMENTO, BEM COMO O ESQUEMA DE COMUTACAO"
   ]
  },
  {
   "cell_type": "code",
   "execution_count": null,
   "metadata": {
    "vscode": {
     "languageId": "plaintext"
    }
   },
   "outputs": [],
   "source": [
    "# MODELAR O PING PONG SAR ADC"
   ]
  }
 ],
 "metadata": {
  "language_info": {
   "name": "python"
  },
  "orig_nbformat": 4
 },
 "nbformat": 4,
 "nbformat_minor": 2
}
