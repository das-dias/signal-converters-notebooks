{
 "cells": [
  {
   "attachments": {},
   "cell_type": "markdown",
   "metadata": {},
   "source": [
    "<h1 align=\"center\"> Capacitive ADC High-Level Modelling </h1>"
   ]
  },
  {
   "attachments": {},
   "cell_type": "markdown",
   "metadata": {},
   "source": [
    "<h2 align=\"left\"> Successive Approximation Register (SAR) ADC </h2>\n",
    "\n",
    "<p align=\"justify\">\n",
    "    The SAR ADC is a type of ADC that uses a binary search algorithm to find the input voltage. The SAR ADC is composed of a DAC, a comparator, and a SAR control logic and register. The binary search divides the search domain in 2 in each conversion step, making the input voltage of the comparator to approximate the input voltage of the ADC in each step, by reprogramming each of the bits of the intrinsic DAC to uncover which is the digital word that best represents vin.\n",
    "</p>\n",
    "\n",
    "INSERIR IMAGEM DE UM SAR ADC CLÁSSICO\n",
    "\n",
    "INSERIR IMAGEM DA OPERAÇÃO DE DIVISÃO DO DOMÍNIO DE BUSCA\n",
    "\n",
    "INSERIR IMAGEM DA CONFIGURAÇÃO DO ADC EM CADA PASSO DE CONVERSÃO"
   ]
  },
  {
   "attachments": {},
   "cell_type": "markdown",
   "metadata": {},
   "source": [
    "In the first step"
   ]
  },
  {
   "cell_type": "code",
   "execution_count": null,
   "metadata": {
    "vscode": {
     "languageId": "plaintext"
    }
   },
   "outputs": [],
   "source": []
  }
 ],
 "metadata": {
  "language_info": {
   "name": "python"
  },
  "orig_nbformat": 4
 },
 "nbformat": 4,
 "nbformat_minor": 2
}
