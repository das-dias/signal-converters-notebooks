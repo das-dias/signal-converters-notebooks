{
 "cells": [
  {
   "attachments": {},
   "cell_type": "markdown",
   "metadata": {},
   "source": [
    "<h1 align=\"center\"> Charge Redistribution DAC Modelling </h1>\n",
    "\n",
    "<p align=\"justify\"> \n",
    "In this practical class, the modelling method for a DAC based on a capacitive array is thoroughly described, \n",
    "considering the effects of parasitic capacitances, amplifier offset, noise and delay.\n",
    "</p>"
   ]
  },
  {
   "cell_type": "code",
   "execution_count": 1,
   "metadata": {},
   "outputs": [],
   "source": [
    "from functools import partial\n",
    "\n",
    "# mathematical computing\n",
    "import numpy as np\n",
    "import scipy as sp\n",
    "from scipy import signal # to generate the noise signal\n",
    "import seaborn as sns # to observe the noise signal's histogram\n",
    "\n",
    "sns.set_theme()\n",
    "sns.set_palette(\"colorblind\")\n",
    "\n",
    "from numpy.random import uniform, normal # random numbers fitted into a uniform distribution\n",
    "# plotting\n",
    "import matplotlib.pyplot as plt\n",
    "# import the models and utilities functions\n",
    "from utils import ideal_dac, ideal_adc, nonideal_adc, dec2bin, bin2dec\n",
    "\n",
    "%matplotlib inline"
   ]
  },
  {
   "attachments": {},
   "cell_type": "markdown",
   "metadata": {},
   "source": [
    "<h2 align=\"left\"> Capacitive DAC - Charge Redistribution </h2>\n",
    "\n",
    "<p align=\"jusitfy\">\n",
    "Understanding the operation of the capacitive DAC is essential to significantly ease the effort of understanding the capacitive-based/charge redistribution ADCs, which are is the most common ADC architecture in modern circuits. The classical capacitive DAC architecture is presented below.\n",
    "</p>\n",
    "\n",
    "<p align=\"center\">\n",
    "<img src=\"../docs/imgs/charge_redist_dac.png\" width=\"500\">\n",
    "</p>"
   ]
  },
  {
   "cell_type": "code",
   "execution_count": null,
   "metadata": {},
   "outputs": [],
   "source": []
  }
 ],
 "metadata": {
  "kernelspec": {
   "display_name": "base",
   "language": "python",
   "name": "python3"
  },
  "language_info": {
   "codemirror_mode": {
    "name": "ipython",
    "version": 3
   },
   "file_extension": ".py",
   "mimetype": "text/x-python",
   "name": "python",
   "nbconvert_exporter": "python",
   "pygments_lexer": "ipython3",
   "version": "3.9.7"
  },
  "orig_nbformat": 4
 },
 "nbformat": 4,
 "nbformat_minor": 2
}
