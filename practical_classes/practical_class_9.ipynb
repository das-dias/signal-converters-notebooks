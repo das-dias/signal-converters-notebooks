{
 "cells": [
  {
   "attachments": {},
   "cell_type": "markdown",
   "metadata": {},
   "source": [
    "<h1 align=\"justify\"> Resistive ADC Modelling and High-Level Simulation </h1>\n",
    "\n",
    "<p align=\"justify\"> \n",
    "In this notebook, three architectures of ADC are modelled and an high level simulation is performed for each architecture. \n",
    "The covered ADC architectures are based in resistive arrays to enable the discretization of the reference voltage in \n",
    "each discrete votlage level, implementing the intrinsic DAC of the ADC. The generality of the existing ADC architectures \n",
    "are based on the use of a comparator to effectively digitize the input votlage. This notebook will have a special enphasis \n",
    "on the impact of the comparator offset in the ADC performance. \n",
    "</p>"
   ]
  },
  {
   "attachments": {},
   "cell_type": "markdown",
   "metadata": {},
   "source": [
    "<h2 align=\"left\"> Comparators: A brief introduction </h2>\n",
    "\n",
    "<p align=\"justify\">\n",
    "A comparator can be thought of a 1 bit ADC. If the input voltage of the ADC (at v+) is higher than the reference voltage of the comparator (at v-), the comparator will output a bit with a logical value of '1', whereas if the input voltage is lower than the reference voltage, the comparator will output a bit with a logical value of '0'.\n",
    "</p>\n",
    "\n",
    "<p align=\"center\">\n",
    "    <img src=\"../docs/imgs/comparator.png\" width=450 text=\"comparator\"/>\n",
    "</p>\n",
    "\n",
    "<p align=\"justify\">\n",
    "The higher the gain of the comparator, the faster is the transition between the two possible logical values at the output. Thus, comparators usually employ:\n",
    "<ul>\n",
    "<il>Positive feedback</il>\n",
    "\n",
    "<il>Clock reset</il>\n",
    "</ul> \n",
    "\n",
    "to ensure very high gains and fast transitions due to the instability of the comparator itself, using the clock reset to re-establish the correct operating point of the comparator.\n",
    "</p>\n",
    "\n",
    "<h3 align=\"left\"> The main problem with Comparators </h3>\n",
    "\n",
    "<p align=\"justify\">\n",
    "The input of almost every comparator topology is based on the use of a differential pair. Due to mismatching, the employed transistors in the implementation of the input differential pair usually present different gate width and length dimensions, which ultimately affects the DC operating point of the comparator. This mismatching leads to a voltage offset between both inputs of the comparator. Of course that this offset is also present at the output of the circuit, once a comparator is basically an unstable amplifier with a \"linear\" response.\n",
    "</p>\n",
    "\n",
    "<p align=\"center\">\n",
    "    <img src=\"../docs/imgs/par_diff.png\" width=450 text=\"comparator-ofst\"/>\n",
    "</p>\n",
    "\n",
    "Considering that the gate area mismatch is a random variable following a normal distribution, the voltage offset arising through the differential pair mismatch can be given by the standard error $\\sigma_{ofst} \\approx V_{ofst} $:\n",
    "\n",
    "$$ \\sigma_{ofst} = \\sqrt{ \\frac{A^2_{V_{TH}}}{W.L} + \\frac{A^2_{\\beta}}{W.L} \\left( \\frac{V_{GS} - V_{TH} }{2} \\right) } $$\n",
    "\n",
    "where $A_{V{TH}}$ and $A_\\beta$, with $\\beta = \\mu.C_{ox}$ are technology-specific parameters modelling how the threshhold voltage $V_{TH}$ and the channel mobility $\\mu.C_{ox}$ vary with the gate area of the transistor.\n",
    "\n",
    "<p align=\"justify\">\n",
    "The offset will lead the comparator to decide its output logical value relative to a lower (negative offset) or higher (positive ofset) input voltage than the reference voltage. This offset is usually modelled as a random variable following a normal distribution with a mean of zero and a standard deviation equal to the maximum offset amplitude (Vofst). The decisions happening \"sooner\" or \"later\", in relation to the voltage reference, will provoke missing-codes in the ADC's transfer function.\n",
    "</p>"
   ]
  },
  {
   "attachments": {},
   "cell_type": "markdown",
   "metadata": {},
   "source": [
    "<h2 align=\"left\"> Flash ADC - Modelling </h2>\n",
    "\n",
    "<p align=\"center\">\n",
    "    <img src=\"../docs/imgs/flash_adc.png\" width=450 text=\"flash_adc\"/>\n",
    "</p>"
   ]
  },
  {
   "cell_type": "code",
   "execution_count": null,
   "metadata": {},
   "outputs": [],
   "source": []
  },
  {
   "cell_type": "code",
   "execution_count": null,
   "metadata": {},
   "outputs": [],
   "source": []
  }
 ],
 "metadata": {
  "language_info": {
   "name": "python"
  },
  "orig_nbformat": 4
 },
 "nbformat": 4,
 "nbformat_minor": 2
}
