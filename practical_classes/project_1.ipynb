{
 "cells": [
  {
   "attachments": {},
   "cell_type": "markdown",
   "metadata": {},
   "source": [
    "<h1 align=\"center\"> Practical Project 1 - Modelling of a 2-Step SAR-based ADC </h1>\n",
    "\n",
    "<p align=\"justify\">\n",
    "    In this first project the goal is to develop an high-level model of a 2-step pipeline ADC based on sub SAR-ADCs. The sub ADCs feature loop-unrolling, using a comparator for each bit extraction in an assynchronous fashion for each successive bit, reducing the timing diagram of the SAR-ADCs to a single conversion period and a single reset period.\n",
    "</p>"
   ]
  },
  {
   "attachments": {},
   "cell_type": "markdown",
   "metadata": {},
   "source": [
    "<h2 align=\"left\"> Sub-ADC Operation </h2>\n",
    "<p align=\"center\">\n",
    "    <img src=\"../docs/imgs/sub_adc_paper1.png\" width=500>\n",
    "</p>\n",
    "\n",
    "<p align=\"justify\">\n",
    "The operation of the sub loop-unrolled SAR-ADC must be understood in order to proceed with the modelling activity. A few important notes can be taken from the figure above:\n",
    "\n",
    "<ul align=\"left\">\n",
    "\n",
    "<il> 1 - The SAR-ADC uses an assynchronous comparator for the extraction of each bit (loop-unrolling technique) - not the classical architecture of a single comparator for all bits; </il>\n",
    "\n",
    "<il> 2 - The differential architecture of the SAR-ADC enables to extract the Most Significant Bit for free right after sampling, without using the DAC capacitive arrays, using comparator D5; </il>\n",
    "\n",
    "<il> 3 - The SAR-ADC is performing bottom-sampling to sample the input differential signal, and as such, the first step after sampling is encharged of transposing the input signal from the bottom plate to the top plate of the capacitors of the DAC array, where the comparators are connected to; </il>\n",
    "\n",
    "<il> 4 - The capacitive DAC arrays feature a split-capacitor architecture, unfolding the capacitance of each element in half. This enables the split capacitor to have one of its bottom plates connected to VREF- and the other to VREF+ at all times during bit extraction - thus allowing the voltage at the top plate of the capacitor array to stay relatively stable around the common mode voltage VCM. The stability of the top plate voltage around VCM is very important to maintain the correct operation and operating point of the comparators D<5:0>.</il>\n",
    "\n",
    "<il> 5 - After each bit decision, if the current bit is a logical \"1\", then the bottom plates of the corresponding positive(top)-array split-capacitor are connected to VREF+ / VREF-, and consequently the bottom plates of the corresponding negative(bottom)-array split-capacitor are connected to VREF- / VREF+, symmetrically. This will pull the top plate voltage of the positive capacitor array upwards, and pull the top plate voltage of the negative capacitor array downwards, adjusting the decision scale for each comparator. </il>\n"
   ]
  },
  {
   "attachments": {},
   "cell_type": "markdown",
   "metadata": {},
   "source": [
    "\n",
    "<il> If the current bit is decided to be a logical \"0\", then the symmetrical connections will be performed. In this case, the top plate voltage of the positive capacitor array will be pulled downwards, and the top plate voltage of the negative capacitor array will be pushed upwards, once again adjusting the decision scale for each comparator. </il> \n",
    "</ul>\n",
    "\n",
    "<il> The last Cs capacitor, presenting the lowest weight of the array is also programmed! Usually, this capacitor is not programmed, but to enable pipeline operation, the Residue voltage must be available at the top plate of the </il>\n",
    "\n",
    "Note that: bit D5 will influence the connections of the 8C+8C split capacitor (which decides bit D4); bit D4 will influence the connections of the 4C+4C split capacitor (which decides bit D3), and etc. ...\n",
    "\n",
    "</p>"
   ]
  },
  {
   "attachments": {},
   "cell_type": "markdown",
   "metadata": {},
   "source": [
    "<h2 align=\"left\"> Timing Diagram of sub SAR-ADC </h2>\n",
    "\n",
    "<p align=\"center\">\n",
    "    <img src=\"../docs/imgs/sub_adc_paper1_timing_diagram.png\" width=500 />\n",
    "</p>"
   ]
  },
  {
   "cell_type": "code",
   "execution_count": 325,
   "metadata": {},
   "outputs": [],
   "source": [
    "# set up required imports\n",
    "from functools import partial\n",
    "\n",
    "# mathematical computing\n",
    "import numpy as np\n",
    "import scipy as sp\n",
    "from scipy import signal # to generate the noise signal\n",
    "import seaborn as sns # to observe the noise signal's histogram\n",
    "\n",
    "sns.set_theme()\n",
    "sns.set_palette(\"colorblind\")\n",
    "\n",
    "from numpy.random import uniform, normal # random numbers fitted into a uniform distribution\n",
    "# plotting\n",
    "import matplotlib.pyplot as plt\n",
    "# import the models and utilities functions\n",
    "from utils import ideal_dac, ideal_adc, nonideal_adc, dec2bin, bin2dec\n",
    "\n",
    "%matplotlib inline"
   ]
  },
  {
   "cell_type": "code",
   "execution_count": 326,
   "metadata": {},
   "outputs": [],
   "source": [
    "# setup the time base for the input signal\n",
    "# number of simulation points\n",
    "Np = 2**15\n",
    "# define the time base\n",
    "Fs = 1e9 # Hz\n",
    "Ts = 1/Fs # s\n",
    "tD = np.arange(0,Np)*Ts; # (0:Np-1) == np.arange(0,Np)"
   ]
  },
  {
   "cell_type": "code",
   "execution_count": 327,
   "metadata": {},
   "outputs": [],
   "source": [
    "# setup the ADC parameters\n",
    "vdd     = 1.0\n",
    "vss     = 0.0\n",
    "vcm     = np.mean([vdd, vss])\n",
    "vrefp   = vdd\n",
    "vrefn   = vss\n",
    "\n",
    "vref    = vdd   # reference voltage of the whole 2-step adc\n",
    "\n",
    "# first sub ADC\n",
    "vref_first  = vref\n",
    "Nbits_first = 6\n",
    "vlsb_first  = vref_first/(2**Nbits_first)\n",
    "\n",
    "# second sub ADC\n",
    "vref_second     = vref/4\n",
    "Nbits_second    = 7\n",
    "vlsb_second     = vref_second/(2**Nbits_second)"
   ]
  },
  {
   "cell_type": "code",
   "execution_count": 328,
   "metadata": {},
   "outputs": [],
   "source": [
    "# scales\n",
    "# volts \n",
    "V   = 1.0\n",
    "mV  = V*1e-3\n",
    "uV  = V*1e-6\n",
    "nV  = V*1e-9\n",
    "\n",
    "# seconds\n",
    "s  = 1.0\n",
    "ms = s*1e-3\n",
    "us = s*1e-6\n",
    "ns = s*1e-9\n",
    "\n",
    "# frequency\n",
    "Hz = 1.0\n",
    "kHz = Hz*1e3\n",
    "MHz = Hz*1e6\n",
    "GHz = Hz*1e9\n",
    "\n",
    "# length\n",
    "m  = 1.0\n",
    "mm = m*1e-3\n",
    "um = m*1e-6\n",
    "nm = m*1e-9\n",
    "\n",
    "# farad\n",
    "F  = 1.0\n",
    "pF = F*1e-12\n",
    "fF = F*1e-15"
   ]
  },
  {
   "attachments": {},
   "cell_type": "markdown",
   "metadata": {},
   "source": [
    "### ENABLE NOISE SIMULATION"
   ]
  },
  {
   "cell_type": "code",
   "execution_count": 329,
   "metadata": {},
   "outputs": [],
   "source": [
    "ENABLE_NOISE = True # enable noise supperposed to the input signal\n",
    "vn_mean = 0.0*V     # mean of the noise signal\n",
    "vn_std  = 1*mV    # standard deviation of the noise signal\n",
    "vn_in   = normal(vn_mean, vn_std**2, Np) # generate the gaussian/white (random) noise signal"
   ]
  },
  {
   "cell_type": "code",
   "execution_count": 330,
   "metadata": {},
   "outputs": [
    {
     "data": {
      "image/png": "[encoded data removed]",
      "text/plain": [
       "<Figure size 400x300 with 1 Axes>"
      ]
     },
     "metadata": {},
     "output_type": "display_data"
    }
   ],
   "source": [
    "# observe the noise signal\n",
    "if ENABLE_NOISE:\n",
    "    fig, ax = plt.subplots(figsize=(4,3))\n",
    "    sns.histplot(vn_in, ax=ax, kde=True, stat='probability', color='gray', label='noise signal')\n",
    "    ax.set_xlabel('Voltage [V]')\n",
    "    ax.set_ylabel('Probability density')\n",
    "    ax.set_title('Histogram of the noise signal')\n",
    "    plt.show()"
   ]
  },
  {
   "attachments": {},
   "cell_type": "markdown",
   "metadata": {},
   "source": [
    "# Sub SAR-ADC transfer function\n",
    "\n",
    "<p align=\"justify\">\n",
    "The general analog to digital transfer function Dout(Vin) of the sub SAR-ADC can be derived using the charge conservation principle (CCP) to derive the voltage at the top plate of the capacitor arrays in each step of the conversion process.\n",
    "\n",
    "There are two main approaches: the long form, that actually describes the true operation of the capacitor arrays, or the short form, simplifying the analysis regarding the modelling of the capacitor arrays when writting the code.\n",
    "\n",
    "<ul>\n",
    "\n",
    "<il> The long form implies applying the CCP to the sampling phase and each of the corresponding phases of each extracted bit, taking into account all the capacitors connected to each array;</il>\n",
    "\n",
    "<il>The short form implies applying the CCP to each pair of successive phases of each bit extraction, taking only into account the capacitance associated to the changed bottom plate connections.</il>\n",
    "\n",
    "</ul>\n",
    "\n",
    "</p>"
   ]
  },
  {
   "cell_type": "code",
   "execution_count": 331,
   "metadata": {},
   "outputs": [],
   "source": [
    "# setup the input signal of the first sub ADC\n",
    "A1      = vref/2\n",
    "fbin    = 1\n",
    "f1      = fbin*(Fs/Np)\n",
    "ph1    = 0\n",
    "vin1t   = A1*np.sin(2*np.pi*f1*tD + ph1) + vcm\n",
    "if ENABLE_NOISE:\n",
    "    vin1t = vin1t + vn_in\n",
    "\n",
    "# compute the spectrum of the input signal\n",
    "vin1f           = np.abs(np.fft.fftshift(np.fft.fft(vin1t) / Np))  # [V] # voltage in the frequency axis\n",
    "# NOTE: fft(yf) is divided by Np in order to normalize the resulting frequency spectrum from the digital fourier transform\n",
    "fD              = np.fft.fftshift(np.fft.fftfreq(Np, Ts))  # [Hz] # frequency axis\n",
    "power_vin1f     = (vin1f*vin1f) # [V^2] - square the voltage spectrum to obtain the power spectrum\n",
    "power_vinf_dB   = 10 * np.log10(power_vin1f)  # [dB] - convert the power spectrum to dB\n"
   ]
  },
  {
   "cell_type": "code",
   "execution_count": 332,
   "metadata": {},
   "outputs": [
    {
     "data": {
      "image/png": "[encoded data removed]",
      "text/plain": [
       "<Figure size 400x400 with 2 Axes>"
      ]
     },
     "metadata": {},
     "output_type": "display_data"
    }
   ],
   "source": [
    "# observe the input signal in time and frequency\n",
    "fig, ax = plt.subplots(2,1,figsize=(4,4))\n",
    "ax[0].plot(tD/us, vin1t, label='input signal in time')\n",
    "ax[0].set_xlabel('time [us]')\n",
    "ax[0].set_ylabel('voltage [V]')\n",
    "ax[0].set_title('Input signal')\n",
    "ax[0].grid(True)\n",
    "ax[1].stem(\n",
    "    fD[fD>=0]/MHz, \n",
    "    power_vinf_dB[fD>=0], \n",
    "    label='input signal in frequency', \n",
    "    bottom=np.min(power_vinf_dB), \n",
    "    linefmt=\"b-\",\n",
    "    markerfmt=\"none\",\n",
    "    basefmt=\"r-\"\n",
    ")\n",
    "ax[1].grid(True)\n",
    "ax[1].set_xlabel('frequency [MHz]')\n",
    "ax[1].set_ylabel('power [dB]')\n",
    "# close up on the frequency axis\n",
    "ax[1].set_xlim([0, 5*f1/MHz])\n",
    "plt.tight_layout()\n",
    "plt.show()"
   ]
  },
  {
   "cell_type": "code",
   "execution_count": 334,
   "metadata": {},
   "outputs": [],
   "source": [
    "# setup mponte carlo analysis\n",
    "Ncircuits = 100 # number of circuits in monte carlo simulation\n",
    "\n",
    "sub_adc_lins = []\n",
    "sub_adc_avg_lin = [] \n",
    "\n",
    "# setup comparator offset\n",
    "Num_comp_offsets    = 10    # number of comparator offsets to be simulated\n",
    "comp_offsets        = np.linspace(0, 1*mV, Num_comp_offsets) # [V] # array of comparator offsets\n",
    "\n",
    "# setup the capacitor mismatch error for the monte carlo sim\n",
    "cap_err_mean    = 0.0\n",
    "sigma_factor    = 3\n",
    "sigma_cap_err   = 0.02  # 5% capacitor mismatch\n",
    "std_cap_err     = sigma_cap_err * sigma_factor\n",
    "\n",
    "\n",
    "for comp_offset in comp_offsets:\n",
    "    for _ in range(Ncircuits):\n",
    "        # setup the splitted capacitor DAC arrays\n",
    "        # positive array\n",
    "        # generate the unitary capacitor array\n",
    "        # even indexes\n",
    "        cap_err_even         = normal(cap_err_mean, std_cap_err**2, 2**(Nbits_first-2)) # [F] # capacitor mismatch error\n",
    "        unittary_caps   = np.ones(len(cap_err_even))*(1 + cap_err_even) # [F] # array of unitary capacitors\n",
    "        # generate the binary weighted capacitor array\n",
    "        pos_cap_even    = np.array([ np.sum(unittary_caps[0:i]) for i in range(len(unittary_caps)+1) ]) # [F] \n",
    "        # odd indexes\n",
    "        cap_err_odd     = normal(cap_err_mean, std_cap_err**2, 2**(Nbits_first-2)) # [F] # capacitor mismatch error\n",
    "        unittary_caps   = np.ones(len(cap_err_odd))*(1 + cap_err_odd) # [F] # array of unitary capacitors\n",
    "        # generate the binary weighted capacitor array\n",
    "        pos_cap_odd     = np.array([ np.sum(unittary_caps[ 2**(b)-1: 2**b ]) for b in range(Nbits_first) ]) # [F] \n",
    "        "
   ]
  },
  {
   "cell_type": "code",
   "execution_count": null,
   "metadata": {},
   "outputs": [],
   "source": []
  }
 ],
 "metadata": {
  "kernelspec": {
   "display_name": "base",
   "language": "python",
   "name": "python3"
  },
  "language_info": {
   "codemirror_mode": {
    "name": "ipython",
    "version": 3
   },
   "file_extension": ".py",
   "mimetype": "text/x-python",
   "name": "python",
   "nbconvert_exporter": "python",
   "pygments_lexer": "ipython3",
   "version": "3.9.13"
  },
  "orig_nbformat": 4
 },
 "nbformat": 4,
 "nbformat_minor": 2
}
