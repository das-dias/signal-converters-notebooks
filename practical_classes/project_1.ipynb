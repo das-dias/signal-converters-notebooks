{
 "cells": [
  {
   "attachments": {},
   "cell_type": "markdown",
   "metadata": {},
   "source": [
    "<h1 align=\"center\"> Practical Project 1 - Modelling of a 2-Step SAR-based ADC </h1>\n",
    "\n",
    "<p align=\"justify\">\n",
    "    In this first project the goal is to develop an high-level model of a 2-step pipeline ADC based on sub SAR-ADCs. The sub ADCs feature loop-unrolling, using a comparator for each bit extraction in an assynchronous fashion for each successive bit, reducing the timing diagram of the SAR-ADCs to a single conversion period and a single reset period.\n",
    "</p>"
   ]
  },
  {
   "attachments": {},
   "cell_type": "markdown",
   "metadata": {},
   "source": [
    "<h2 align=\"left\"> Sub-ADC Operation </h2>\n",
    "\n",
    "<p align=\"center\">\n",
    "    <img src=\"../docs/imgs/sub_adc_paper1.png\" width=500>\n",
    "</p>\n",
    "\n",
    "<p align=\"justify\">\n",
    "The operation of the sub loop-unrolled SAR-ADC must be understood in order to proceed with the modelling activity. A few important notes can be taken from the figure above:\n",
    "\n",
    "<ul align=\"left\">\n",
    "\n",
    "<il> 1 - The SAR-ADC uses an assynchronous comparator for the extraction of each bit (loop-unrolling technique) - not the classical architecture of a single comparator for all bits; </il>\n",
    "\n",
    "<il> 2 - The differential architecture of the SAR-ADC enables to extract the Most Significant Bit for free right after sampling, without using the DAC capacitive arrays, using comparator D5; </il>\n",
    "\n",
    "<il> 3 - The SAR-ADC is performing bottom-sampling to sample the input differential signal, and as such, the first step after sampling is encharged of transposing the input signal from the bottom plate to the top plate of the capacitors of the DAC array, where the comparators are connected to; </il>\n",
    "\n",
    "<il> 4 - The capacitive DAC arrays feature a split-capacitor architecture, unfolding the capacitance of each element in half. This enables the split capacitor to have one of its bottom plates connected to VREF- and the other to VREF+ at all times during bit extraction - thus allowing the voltage at the top plate of the capacitor array to stay relatively stable around the common mode voltage VCM. The stability of the top plate voltage around VCM is very important to maintain the correct operation and operating point of the comparators D<5:0>.</il>\n",
    "\n",
    "<il> 5 - After each bit decision, if the current bit is a logical \"1\", then the bottom plates of the corresponding positive(top)-array split-capacitor are connected to VREF+ / VREF-, and consequently the bottom plates of the corresponding negative(bottom)-array split-capacitor are connected to VREF- / VREF+, symmetrically. This will pull the top plate voltage of the positive capacitor array upwards, and pull the top plate voltage of the negative capacitor array downwards, adjusting the decision scale for each comparator. </il>\n"
   ]
  },
  {
   "cell_type": "markdown",
   "metadata": {},
   "source": [
    "\n",
    "<il> If the current bit is decided to be a logical \"0\", then the symmetrical connections will be performed. In this case, the top plate voltage of the positive capacitor array will be pulled downwards, and the top plate voltage of the negative capacitor array will be pushed upwards, once again adjusting the decision scale for each comparator. </il> \n",
    "</ul>\n",
    "\n",
    "<il> The last Cs capacitor, presenting the lowest weight of the array is also programmed! Usually, this capacitor is not programmed, but to enable pipeline operation, the Residue voltage must be available at the top plate of the </il>\n",
    "\n",
    "Note that: bit D5 will influence the connections of the 8C+8C split capacitor (which decides bit D4); bit D4 will influence the connections of the 4C+4C split capacitor (which decides bit D3), and etc. ...\n",
    "\n",
    "</p>"
   ]
  },
  {
   "attachments": {},
   "cell_type": "markdown",
   "metadata": {},
   "source": [
    "<h2 align=\"left\"> Timing Diagram of sub SAR-ADC </h2>\n",
    "\n",
    "<p align=\"center\">\n",
    "    <img src=\"../docs/imgs/sub_adc_paper1_timing_diagram.png\" width=500 />\n",
    "</p>"
   ]
  },
  {
   "attachments": {},
   "cell_type": "markdown",
   "metadata": {},
   "source": [
    "<h2 align=\"left\"> Sub SAR-ADC transfer function </h2>\n",
    "\n",
    "<p align=\"justify\">\n",
    "The general analog to digital transfer function Dout(Vin) of the sub SAR-ADC can be derived using the charge conservation principle (CCP) to derive the voltage at the top plate of the capacitor arrays in each step of the conversion process.\n",
    "\n",
    "There are two main approaches: the long form, that actually describes the true operation of the capacitor arrays, or the short form, simplifying the analysis regarding the modelling of the capacitor arrays when writting the code.\n",
    "\n",
    "<ul>\n",
    "\n",
    "<il> The long form implies applying the CCP to the sampling phase and each of the corresponding phases of each extracted bit, taking into account all the capacitors connected to each array;</il>\n",
    "\n",
    "<il>The short form implies applying the CCP to each pair of successive phases of each bit extraction, taking only into account the capacitance associated to the changed bottom plate connections.</il>\n",
    "\n",
    "</ul>\n",
    "\n",
    "</p>"
   ]
  },
  {
   "cell_type": "code",
   "execution_count": null,
   "metadata": {},
   "outputs": [],
   "source": []
  }
 ],
 "metadata": {
  "language_info": {
   "name": "python"
  },
  "orig_nbformat": 4
 },
 "nbformat": 4,
 "nbformat_minor": 2
}
